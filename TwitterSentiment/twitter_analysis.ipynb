{
 "cells": [
  {
   "cell_type": "code",
   "execution_count": 49,
   "metadata": {
    "scrolled": false
   },
   "outputs": [],
   "source": [
    "import tweepy\n",
    "from textblob import TextBlob\n",
    "import pandas\n",
    "def sentanlysis(pol):\n",
    "    if pol.sentiment.polarity > 0:\n",
    "        return 'positive: '\n",
    "    elif pol.sentiment.polarity == 0:\n",
    "        return 'neutral: '\n",
    "    else:\n",
    "        return 'negative: '\n",
    "\n",
    "consumer_key='Du99gyfNpzmskSulKnamtqYE5'\n",
    "consumer_secret='oi2EquBgHTxfuT8JNdAcCLvgjxLBFK8dMtmF9ZLCv23lZOhYqT'\n",
    "\n",
    "access_token='110947761-7Ih4oSwCFWy9HCfzANMNrZmXQ7lsy2ro32zUymxR'\n",
    "access_token_secret='v9B3whGgoD6GAPKskvLWWqLeE9jX68TaOnNK3ZGWE2QBM'\n",
    "\n",
    "auth=tweepy.OAuthHandler(consumer_key,consumer_secret)\n",
    "auth.set_access_token(access_token,access_token_secret)\n",
    "\n",
    "\n",
    "api=tweepy.API(auth)\n",
    "\n",
    "publictweets=api.search('Bitcoin')\n",
    "   \n",
    "tweetsfile=open(\"tweetsBitcoin.csv\",\"w\")\n",
    "for tweet in publictweets:\n",
    "    analysis=TextBlob(tweet.text)\n",
    "    tweetstr=str(tweet.text.encode(\"utf-8\"))\n",
    "    tweetsfile.write(sentanlysis(analysis)+tweetstr+',\\n')\n",
    "    \n",
    "tweetsfile.close()"
   ]
  }
 ],
 "metadata": {
  "kernelspec": {
   "display_name": "Python 3",
   "language": "python",
   "name": "python3"
  },
  "language_info": {
   "codemirror_mode": {
    "name": "ipython",
    "version": 3
   },
   "file_extension": ".py",
   "mimetype": "text/x-python",
   "name": "python",
   "nbconvert_exporter": "python",
   "pygments_lexer": "ipython3",
   "version": "3.6.5"
  }
 },
 "nbformat": 4,
 "nbformat_minor": 2
}
