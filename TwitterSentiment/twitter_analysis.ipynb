{
 "cells": [
  {
   "cell_type": "code",
   "execution_count": 4,
   "metadata": {},
   "outputs": [],
   "source": [
    "import pandas"
   ]
  },
  {
   "cell_type": "code",
   "execution_count": 47,
   "metadata": {
    "scrolled": false
   },
   "outputs": [
    {
     "name": "stdout",
     "output_type": "stream",
     "text": [
      "RT @JacobAWohl: Trump bombs Syria, April 2017 - \"This is going to start WW3\" \n",
      "\n",
      "Trump tweets Kim Jong Un - \"This going to start WW3\" \n",
      "\n",
      "Trump…\n",
      "neutral: \n",
      "RT @Solanopo: Que los bombardeos de Trump en Siria sean en defensa de los derechos humanos no lo puede creer nadie. Su objetivo es monopoli…\n",
      "neutral: \n",
      "100 missiles on Syria ..Trump says Mission Accomplished #Syria #US https://t.co/ihNLUKNRTb https://t.co/KI0LsIC6Wg\n",
      "positive: \n",
      "RT @solarblaster1: This is the 💩 i avoid. I am behind Mr. Trump 110%. Those that aren't are just riding a coat tail. At least I know where…\n",
      "negative: \n",
      "RT @The_UnSilent_: Alex Jones, a man Donald Trump calls frequently during his “Executive Time” started crying last night because he feels b…\n",
      "negative: \n",
      "@ShannonBream Trump didn't have to land the missile in Russia's lap only had to do was embarrassing \n",
      "\"mission accomplished\"\n",
      "positive: \n",
      "RT @CoreyLMJones: Trump isn’t a president that draws red lines that can be crossed.\n",
      "\n",
      "Trump isn’t a president that allows North Korea to obt…\n",
      "neutral: \n",
      "RT @leoneltudo: en serio a q tipo DE PERSONA SE LE CRUZO POR LA CABEZA VOTAR A TRUMP PARA QUE SEA PRESIDENTE\n",
      "neutral: \n",
      "@CNNPolitics Pence just said 'mission accomplished' was bullshit. Code for \"Trump knows nothing\" Gezus, America. Ev… https://t.co/4EcosybMPP\n",
      "positive: \n",
      "RT @DrakusRex: Trump on Syria strikes, \"Mission Accomplished\"\n",
      "\n",
      "...aaaaaaannd it's 2003 again...\n",
      "positive: \n",
      "RT @jimlibertarian: I am through with @RealAlexJones all true Trump supporters please listen to what Alex has to say on this video about @r…\n",
      "positive: \n",
      "RT @MikeElChingon: This was a tweet by Trump back in 2013.  Today, he ordered to bomb Syria without Congressional approval https://t.co/lV0…\n",
      "neutral: \n",
      "RT @RealMuckmaker: Trump could pardon Michael Cohen — but it might not save him https://t.co/eFuYGrK0W7 via @voxdotcom\n",
      "neutral: \n",
      "RT @Inspectorsaurus: I Am So Proud to be an American and I am Grateful for Donald J Trump!! \n",
      "I Hope You Enjoy this as Much as I Do!!\n",
      "#MAGA…\n",
      "positive: \n"
     ]
    }
   ],
   "source": [
    "import tweepy\n",
    "from textblob import TextBlob\n",
    "import pandas\n",
    "def sentanlysis(pol):\n",
    "    if pol.sentiment.polarity > 0:\n",
    "        return 'positive: '\n",
    "    elif pol.sentiment.polarity == 0:\n",
    "        return 'neutral: '\n",
    "    else:\n",
    "        return 'negative: '\n",
    "\n",
    "consumer_key='Du99gyfNpzmskSulKnamtqYE5'\n",
    "consumer_secret='oi2EquBgHTxfuT8JNdAcCLvgjxLBFK8dMtmF9ZLCv23lZOhYqT'\n",
    "\n",
    "access_token='110947761-7Ih4oSwCFWy9HCfzANMNrZmXQ7lsy2ro32zUymxR'\n",
    "access_token_secret='v9B3whGgoD6GAPKskvLWWqLeE9jX68TaOnNK3ZGWE2QBM'\n",
    "\n",
    "auth=tweepy.OAuthHandler(consumer_key,consumer_secret)\n",
    "auth.set_access_token(access_token,access_token_secret)\n",
    "\n",
    "\n",
    "api=tweepy.API(auth)\n",
    "\n",
    "publictweets=api.search('Trump')\n",
    "   \n",
    "tweetsfile=open(\"tweets.csv\",\"w\")\n",
    "for tweet in publictweets:\n",
    "    analysis=TextBlob(tweet.text)\n",
    "    tweetstr=str(tweet.text.encode(\"utf-8\"))\n",
    "    tweetsfile.write(sentanlysis(analysis)+tweetstr+',\\n')\n",
    "    \n",
    "tweetsfile.close()"
   ]
  },
  {
   "cell_type": "code",
   "execution_count": 46,
   "metadata": {},
   "outputs": [],
   "source": [
    "tweetsfile=open(\"tweets.csv\",\"w\")\n",
    "for tweet in publictweets:\n",
    "    analysis=TextBlob(tweet.text)\n",
    "    tweetstr=str(tweet.text.encode(\"utf-8\"))\n",
    "    tweetsfile.write(sentanlysis(analysis)+tweetstr+',\\n')\n",
    "    \n",
    "tweetsfile.close()"
   ]
  },
  {
   "cell_type": "code",
   "execution_count": 21,
   "metadata": {},
   "outputs": [
    {
     "data": {
      "text/plain": [
       "0    RT @CryptoCoinsNews: Experts Predict Bitcoin P...\n",
       "dtype: object"
      ]
     },
     "execution_count": 21,
     "metadata": {},
     "output_type": "execute_result"
    }
   ],
   "source": [
    "tweetseries\n"
   ]
  }
 ],
 "metadata": {
  "kernelspec": {
   "display_name": "Python 3",
   "language": "python",
   "name": "python3"
  },
  "language_info": {
   "codemirror_mode": {
    "name": "ipython",
    "version": 3
   },
   "file_extension": ".py",
   "mimetype": "text/x-python",
   "name": "python",
   "nbconvert_exporter": "python",
   "pygments_lexer": "ipython3",
   "version": "3.6.5"
  }
 },
 "nbformat": 4,
 "nbformat_minor": 2
}
