{
 "cells": [
  {
   "cell_type": "code",
   "execution_count": 4,
   "metadata": {},
   "outputs": [],
   "source": [
    "import pandas"
   ]
  },
  {
   "cell_type": "code",
   "execution_count": 35,
   "metadata": {
    "scrolled": false
   },
   "outputs": [
    {
     "name": "stdout",
     "output_type": "stream",
     "text": [
      "RT @kurteichenwald: When Obama bombed Syria for its use of chemical weapons, GOP and Fox screamed it was an impeachable offense.\n",
      "\n",
      "Now that…\n",
      "RT @WilDonnelly: Trump's problem is not Comey\n",
      "Trump's problem is not Rosenstein\n",
      "Trump's problem is not Mueller\n",
      "Trump's problem is not the \"…\n",
      "RT @marklevinshow: Congratulations to the great United States military! And well done to our Commander-in-Chief! https://t.co/90dYp5FHsE\n",
      "@FoxNews @foxandfriends @SebGorka Coming soon to a news channel near you The PeePee Tape, staring your’s truly Dona… https://t.co/7W52LYHRWj\n",
      "RT @JkmMikke: Wygląda na to, że atak US-UK-Francji wywołanie całkiem nieoczekiwany efekt: naród syryjski zjednoczył się w'okół swego prezyd…\n",
      "RT @NattyBumppo5: If he weren't President no one would give a damn about Trump's opinion on ANYTHING!  We would all be better off if that c…\n",
      "RT @_ReservoirDog: Emmanuel Macron: A que no te atreves puto.\n",
      "\n",
      "Trump: No mames.\n",
      "\n",
      "Theresa May: La neta Vladímir Putin tiene más huevos.\n",
      "\n",
      "Tru…\n",
      "RT @nzo11: #TheRedLine\n",
      "\n",
      "IF THERE WAS EVER A WOMAN TODAY THAT WOULD RUN FOR PRESIDENT\n",
      "THAT I WOULD VOTE FOR WITHOUT A BLINK OF DOUBT\n",
      "\n",
      "It’s #…\n",
      "RT @DanRather: The record has shown that President Trump has little sense of irony (or history for that matter), but still, an American pre…\n",
      "RT @AdrienneMahsa: Syrians are still targeted in Trump's #MuslimBan\n",
      "\n",
      "Syrians are unable to get immigrant or non-immigrant visas to the Unit…\n",
      "RT @SmBizAmerica: Trump's tax cut sees JP Morgan profit up 35% - Sky News https://t.co/spjzn94WJV @realDonaldTrump @POTUS #America #MAGA #S…\n",
      "@r2posinho caga nisso, criticar o trump é mais facil\n",
      "RT @SoDoSlayer: You are a high ranking officer within the United States Military and must judge the competence of fellow officers.  How do…\n",
      "RT @Cate_Gary: Trump always says \"Mission accomplished!\" after he orgasms, and that's never come back to haunt him, either.\n",
      "RT @mjfree: If Trump rushed tonight’s Syria strikes to squash today’s PR nightmare he should be tried for war crimes.   \n",
      "\n",
      "#SyriaStrikes\n"
     ]
    }
   ],
   "source": [
    "import tweepy\n",
    "from textblob import TextBlob\n",
    "import pandas\n",
    "\n",
    "consumer_key='Du99gyfNpzmskSulKnamtqYE5'\n",
    "consumer_secret='oi2EquBgHTxfuT8JNdAcCLvgjxLBFK8dMtmF9ZLCv23lZOhYqT'\n",
    "\n",
    "access_token='110947761-7Ih4oSwCFWy9HCfzANMNrZmXQ7lsy2ro32zUymxR'\n",
    "access_token_secret='v9B3whGgoD6GAPKskvLWWqLeE9jX68TaOnNK3ZGWE2QBM'\n",
    "\n",
    "auth=tweepy.OAuthHandler(consumer_key,consumer_secret)\n",
    "auth.set_access_token(access_token,access_token_secret)\n",
    "\n",
    "\n",
    "api=tweepy.API(auth)\n",
    "\n",
    "publictweets=api.search('Trump')\n",
    "\n",
    "for tweet in publictweets:\n",
    "        print(tweet.text)\n",
    "        analysis=TextBlob(tweet.text)\n"
   ]
  },
  {
   "cell_type": "code",
   "execution_count": 42,
   "metadata": {},
   "outputs": [],
   "source": [
    "tweetsfile=open(\"tweets.csv\",\"w\")\n",
    "for tweet in publictweets:\n",
    "    tweetstr=str(tweet.text.encode(\"utf-8\"))\n",
    "    tweetsfile.write(tweetstr+',\\n')\n",
    "    \n",
    "tweetsfile.close()"
   ]
  },
  {
   "cell_type": "code",
   "execution_count": 21,
   "metadata": {},
   "outputs": [
    {
     "data": {
      "text/plain": [
       "0    RT @CryptoCoinsNews: Experts Predict Bitcoin P...\n",
       "dtype: object"
      ]
     },
     "execution_count": 21,
     "metadata": {},
     "output_type": "execute_result"
    }
   ],
   "source": [
    "tweetseries\n"
   ]
  }
 ],
 "metadata": {
  "kernelspec": {
   "display_name": "Python 3",
   "language": "python",
   "name": "python3"
  },
  "language_info": {
   "codemirror_mode": {
    "name": "ipython",
    "version": 3
   },
   "file_extension": ".py",
   "mimetype": "text/x-python",
   "name": "python",
   "nbconvert_exporter": "python",
   "pygments_lexer": "ipython3",
   "version": "3.6.5"
  }
 },
 "nbformat": 4,
 "nbformat_minor": 2
}
